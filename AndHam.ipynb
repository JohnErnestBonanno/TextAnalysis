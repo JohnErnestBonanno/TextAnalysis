{
 "cells": [
  {
   "cell_type": "code",
   "execution_count": 2,
   "metadata": {
    "collapsed": true
   },
   "outputs": [],
   "source": [
    "from collections import defaultdict\n",
    "import pandas as pd"
   ]
  },
  {
   "cell_type": "code",
   "execution_count": 3,
   "metadata": {
    "collapsed": true
   },
   "outputs": [],
   "source": [
    "file = open('GreenEggsAndHam.txt', 'r') #\n",
    "text_list = file.read()"
   ]
  },
  {
   "cell_type": "code",
   "execution_count": 4,
   "metadata": {
    "scrolled": true
   },
   "outputs": [
    {
     "name": "stdout",
     "output_type": "stream",
     "text": [
      "I am Sam\n",
      "Sam I am\n",
      "\n",
      "That Sam-I-am!\n",
      "That Sam-I-am!\n",
      "I do not like that Sam-I-am!\n",
      "\n",
      "Do you like\n",
      "green eggs and ham?\n",
      "I do not like them, Sam-I-am.\n",
      "I do not like\n",
      "green eggs and ham.\n",
      "\n",
      "Would you like them\n",
      "here or there?\n",
      "\n",
      "I would not like them\n",
      "here or there.\n",
      "I would not like them anywhere.\n",
      "\n",
      "I do not like\n",
      "green eggs and ham.\n",
      "I do not like them, Sam-I-am.\n",
      "\n",
      "Would you like them in a house?\n",
      "Would you like them with a mouse?\n",
      "\n",
      "I do not like them\n",
      "in a house.\n",
      "I do not like them\n",
      "with a mouse.\n",
      "I do not like them\n",
      "here or there.\n",
      "I do not like them\n",
      "anywhere.\n",
      "I do not like\n",
      "green eggs and ham.\n",
      "I do not like them,\n",
      "Sam-I-am.\n",
      "\n",
      "Would you eat them\n",
      "in a box?\n",
      "Would you eat them\n",
      "with a fox?\n",
      "\n",
      "Not in a box.\n",
      "Not with a fox.\n",
      "Not in a house.\n",
      "Not with a mouse.\n",
      "I would not eat them\n",
      "here or there.\n",
      "I would not eat them anywhere.\n",
      "I would not eat green eggs and ham.\n",
      "I do not like them, Sam-I-am.\n",
      "\n",
      "Would you? Could you? In a car?\n",
      "Eat them! Eat them! Here they are.\n",
      "I would not, could not, in a car.\n",
      "\n",
      "You may like them. You will see.\n",
      "You may like them in a tree!\n",
      "\n",
      "I would not, could not in a tree.\n",
      "Not in a car! You let me be.\n",
      "\n",
      "I do not like them in a box.\n",
      "I do not like them with a fox.\n",
      "I do not like them in a house.\n",
      "I do not like them with a mouse.\n",
      "I do not like them here or there.\n",
      "I do not like them anywhere.\n",
      "I do not like green eggs and ham.\n",
      "I do not like them, Sam-I-am.\n",
      "\n",
      "A train! A train!\n",
      "A train! A train!\n",
      "Could you, would you,\n",
      "on a train?\n",
      "\n",
      "Not in a train! Not in a tree!\n",
      "Not in a car! Sam! Let me be!\n",
      "\n",
      "I would not, could not, in a box.\n",
      "I could not, would not, with a fox.\n",
      "I will not eat them with a mouse.\n",
      "I will not eat them in a house.\n",
      "I will not eat them here or there.\n",
      "I will not eat them anywhere.\n",
      "I do not like green eggs and spam.\n",
      "I do not like them, Sam-I-am.\n",
      "\n",
      "Say! In the dark?\n",
      "Here in the dark!\n",
      "Would you, could you,\n",
      "in the dark?\n",
      "\n",
      "I would not, could not, in the dark.\n",
      "\n",
      "Would you, could you, in the rain?\n",
      "\n",
      "I would not, could not, in the rain.\n",
      "Not in the dark. Not on a train.\n",
      "Not in a car. Not in a tree.\n",
      "I do not like them, Sam, you see.\n",
      "Not in a house. Not in a box.\n",
      "Not with a mouse. Not with a fox.\n",
      "I will not eat them here or there.\n",
      "I do not like them anywhere!\n",
      "\n",
      "You do not like\n",
      "green eggs and ham?\n",
      "I do not like them,\n",
      "Sam-I-am.\n",
      "\n",
      "Could you, would you,\n",
      "with a goat?\n",
      "\n",
      "I would not, could not,\n",
      "with a goat!\n",
      "\n",
      "Would you, could you,\n",
      "on a boat?\n",
      "\n",
      "I could not, would not,\n",
      "on a boat.\n",
      "I will not, will not,\n",
      "with a goat.\n",
      "\n",
      "I will not eat them in the rain.\n",
      "I will not eat them on a train.\n",
      "Not in the dark! Not in a tree!\n",
      "Not in a car! You let me be!\n",
      "I do not like them in a box.\n",
      "I do not like them with a fox.\n",
      "I will not eat them in a house.\n",
      "I do not like them with a mouse.\n",
      "I do not like them here or there.\n",
      "I do not like them anywhere!\n",
      "I do not like green eggs and ham!\n",
      "I do not like them, Sam-I-am.\n",
      "\n",
      "\n",
      "You do not like them. So you say.\n",
      "Try them! Try them! And you may.\n",
      "Try them and you may, I say.\n",
      "\n",
      "Sam! If you will let me be,\n",
      "I will try them. You will see.\n",
      "\n",
      "Say! I like green eggs and ham!\n",
      "I do! I like them, Sam-I-am!\n",
      "And I would eat them in a boat.\n",
      "And I would eat them with a goat...\n",
      "\n",
      "And I will eat them in the rain.\n",
      "And in the dark. And on a train.\n",
      "And in a car. And in a tree.\n",
      "They are so good, so good, you see!\n",
      "\n",
      "So I will eat them in a box.\n",
      "And I will eat them with a fox.\n",
      "And I will eat them in a house.\n",
      "And I will eat them with a mouse.\n",
      "And I will eat them here and there.\n",
      "Say! I will eat them anywhere!\n",
      "I do so like\n",
      "green eggs and ham!\n",
      "Thank you!\n",
      "Thank you, Sam-I-am!\n",
      "\n"
     ]
    }
   ],
   "source": [
    "print(text_list)"
   ]
  },
  {
   "cell_type": "code",
   "execution_count": 9,
   "metadata": {},
   "outputs": [
    {
     "name": "stdout",
     "output_type": "stream",
     "text": [
      "<class 'list'>\n"
     ]
    }
   ],
   "source": [
    "words = text_list.split()\n",
    "#print(words)\n",
    "print(type(words))"
   ]
  },
  {
   "cell_type": "code",
   "execution_count": 15,
   "metadata": {},
   "outputs": [],
   "source": [
    "#make lower case\n",
    "words = [word.lower() for word in words] #don't quite get this how does it work "
   ]
  },
  {
   "cell_type": "code",
   "execution_count": 17,
   "metadata": {},
   "outputs": [],
   "source": [
    "table = str.maketrans('', '', (\"!#$%&'()*+,-./:;<=>?@[\\]^_`{|}~\")) #not sure how this works either"
   ]
  },
  {
   "cell_type": "code",
   "execution_count": 19,
   "metadata": {},
   "outputs": [
    {
     "name": "stdout",
     "output_type": "stream",
     "text": [
      "['i', 'am', 'sam', 'sam', 'i', 'am', 'that', 'samiam', 'that', 'samiam', 'i', 'do', 'not', 'like', 'that', 'samiam', 'do', 'you', 'like', 'green', 'eggs', 'and', 'ham', 'i', 'do', 'not', 'like', 'them', 'samiam', 'i', 'do', 'not', 'like', 'green', 'eggs', 'and', 'ham', 'would', 'you', 'like', 'them', 'here', 'or', 'there', 'i', 'would', 'not', 'like', 'them', 'here', 'or', 'there', 'i', 'would', 'not', 'like', 'them', 'anywhere', 'i', 'do', 'not', 'like', 'green', 'eggs', 'and', 'ham', 'i', 'do', 'not', 'like', 'them', 'samiam', 'would', 'you', 'like', 'them', 'in', 'a', 'house', 'would', 'you', 'like', 'them', 'with', 'a', 'mouse', 'i', 'do', 'not', 'like', 'them', 'in', 'a', 'house', 'i', 'do', 'not', 'like', 'them', 'with', 'a', 'mouse', 'i', 'do', 'not', 'like', 'them', 'here', 'or', 'there', 'i', 'do', 'not', 'like', 'them', 'anywhere', 'i', 'do', 'not', 'like', 'green', 'eggs', 'and', 'ham', 'i', 'do', 'not', 'like', 'them', 'samiam', 'would', 'you', 'eat', 'them', 'in', 'a', 'box', 'would', 'you', 'eat', 'them', 'with', 'a', 'fox', 'not', 'in', 'a', 'box', 'not', 'with', 'a', 'fox', 'not', 'in', 'a', 'house', 'not', 'with', 'a', 'mouse', 'i', 'would', 'not', 'eat', 'them', 'here', 'or', 'there', 'i', 'would', 'not', 'eat', 'them', 'anywhere', 'i', 'would', 'not', 'eat', 'green', 'eggs', 'and', 'ham', 'i', 'do', 'not', 'like', 'them', 'samiam', 'would', 'you', 'could', 'you', 'in', 'a', 'car', 'eat', 'them', 'eat', 'them', 'here', 'they', 'are', 'i', 'would', 'not', 'could', 'not', 'in', 'a', 'car', 'you', 'may', 'like', 'them', 'you', 'will', 'see', 'you', 'may', 'like', 'them', 'in', 'a', 'tree', 'i', 'would', 'not', 'could', 'not', 'in', 'a', 'tree', 'not', 'in', 'a', 'car', 'you', 'let', 'me', 'be', 'i', 'do', 'not', 'like', 'them', 'in', 'a', 'box', 'i', 'do', 'not', 'like', 'them', 'with', 'a', 'fox', 'i', 'do', 'not', 'like', 'them', 'in', 'a', 'house', 'i', 'do', 'not', 'like', 'them', 'with', 'a', 'mouse', 'i', 'do', 'not', 'like', 'them', 'here', 'or', 'there', 'i', 'do', 'not', 'like', 'them', 'anywhere', 'i', 'do', 'not', 'like', 'green', 'eggs', 'and', 'ham', 'i', 'do', 'not', 'like', 'them', 'samiam', 'a', 'train', 'a', 'train', 'a', 'train', 'a', 'train', 'could', 'you', 'would', 'you', 'on', 'a', 'train', 'not', 'in', 'a', 'train', 'not', 'in', 'a', 'tree', 'not', 'in', 'a', 'car', 'sam', 'let', 'me', 'be', 'i', 'would', 'not', 'could', 'not', 'in', 'a', 'box', 'i', 'could', 'not', 'would', 'not', 'with', 'a', 'fox', 'i', 'will', 'not', 'eat', 'them', 'with', 'a', 'mouse', 'i', 'will', 'not', 'eat', 'them', 'in', 'a', 'house', 'i', 'will', 'not', 'eat', 'them', 'here', 'or', 'there', 'i', 'will', 'not', 'eat', 'them', 'anywhere', 'i', 'do', 'not', 'like', 'green', 'eggs', 'and', 'spam', 'i', 'do', 'not', 'like', 'them', 'samiam', 'say', 'in', 'the', 'dark', 'here', 'in', 'the', 'dark', 'would', 'you', 'could', 'you', 'in', 'the', 'dark', 'i', 'would', 'not', 'could', 'not', 'in', 'the', 'dark', 'would', 'you', 'could', 'you', 'in', 'the', 'rain', 'i', 'would', 'not', 'could', 'not', 'in', 'the', 'rain', 'not', 'in', 'the', 'dark', 'not', 'on', 'a', 'train', 'not', 'in', 'a', 'car', 'not', 'in', 'a', 'tree', 'i', 'do', 'not', 'like', 'them', 'sam', 'you', 'see', 'not', 'in', 'a', 'house', 'not', 'in', 'a', 'box', 'not', 'with', 'a', 'mouse', 'not', 'with', 'a', 'fox', 'i', 'will', 'not', 'eat', 'them', 'here', 'or', 'there', 'i', 'do', 'not', 'like', 'them', 'anywhere', 'you', 'do', 'not', 'like', 'green', 'eggs', 'and', 'ham', 'i', 'do', 'not', 'like', 'them', 'samiam', 'could', 'you', 'would', 'you', 'with', 'a', 'goat', 'i', 'would', 'not', 'could', 'not', 'with', 'a', 'goat', 'would', 'you', 'could', 'you', 'on', 'a', 'boat', 'i', 'could', 'not', 'would', 'not', 'on', 'a', 'boat', 'i', 'will', 'not', 'will', 'not', 'with', 'a', 'goat', 'i', 'will', 'not', 'eat', 'them', 'in', 'the', 'rain', 'i', 'will', 'not', 'eat', 'them', 'on', 'a', 'train', 'not', 'in', 'the', 'dark', 'not', 'in', 'a', 'tree', 'not', 'in', 'a', 'car', 'you', 'let', 'me', 'be', 'i', 'do', 'not', 'like', 'them', 'in', 'a', 'box', 'i', 'do', 'not', 'like', 'them', 'with', 'a', 'fox', 'i', 'will', 'not', 'eat', 'them', 'in', 'a', 'house', 'i', 'do', 'not', 'like', 'them', 'with', 'a', 'mouse', 'i', 'do', 'not', 'like', 'them', 'here', 'or', 'there', 'i', 'do', 'not', 'like', 'them', 'anywhere', 'i', 'do', 'not', 'like', 'green', 'eggs', 'and', 'ham', 'i', 'do', 'not', 'like', 'them', 'samiam', 'you', 'do', 'not', 'like', 'them', 'so', 'you', 'say', 'try', 'them', 'try', 'them', 'and', 'you', 'may', 'try', 'them', 'and', 'you', 'may', 'i', 'say', 'sam', 'if', 'you', 'will', 'let', 'me', 'be', 'i', 'will', 'try', 'them', 'you', 'will', 'see', 'say', 'i', 'like', 'green', 'eggs', 'and', 'ham', 'i', 'do', 'i', 'like', 'them', 'samiam', 'and', 'i', 'would', 'eat', 'them', 'in', 'a', 'boat', 'and', 'i', 'would', 'eat', 'them', 'with', 'a', 'goat', 'and', 'i', 'will', 'eat', 'them', 'in', 'the', 'rain', 'and', 'in', 'the', 'dark', 'and', 'on', 'a', 'train', 'and', 'in', 'a', 'car', 'and', 'in', 'a', 'tree', 'they', 'are', 'so', 'good', 'so', 'good', 'you', 'see', 'so', 'i', 'will', 'eat', 'them', 'in', 'a', 'box', 'and', 'i', 'will', 'eat', 'them', 'with', 'a', 'fox', 'and', 'i', 'will', 'eat', 'them', 'in', 'a', 'house', 'and', 'i', 'will', 'eat', 'them', 'with', 'a', 'mouse', 'and', 'i', 'will', 'eat', 'them', 'here', 'and', 'there', 'say', 'i', 'will', 'eat', 'them', 'anywhere', 'i', 'do', 'so', 'like', 'green', 'eggs', 'and', 'ham', 'thank', 'you', 'thank', 'you', 'samiam']\n"
     ]
    }
   ],
   "source": [
    "stripped = [w.translate(table) for w in words]\n",
    "print(stripped)"
   ]
  },
  {
   "cell_type": "code",
   "execution_count": 13,
   "metadata": {},
   "outputs": [
    {
     "name": "stdout",
     "output_type": "stream",
     "text": [
      "['i', 'am', 'sam', 'sam', 'i', 'am', 'that', 'sam-i-am!', 'that', 'sam-i-am!', 'i', 'do', 'not', 'like', 'that', 'sam-i-am!', 'do', 'you', 'like', 'green', 'eggs', 'and', 'ham?', 'i', 'do', 'not', 'like', 'them,', 'sam-i-am.', 'i', 'do', 'not', 'like', 'green', 'eggs', 'and', 'ham.', 'would', 'you', 'like', 'them', 'here', 'or', 'there?', 'i', 'would', 'not', 'like', 'them', 'here', 'or', 'there.', 'i', 'would', 'not', 'like', 'them', 'anywhere.', 'i', 'do', 'not', 'like', 'green', 'eggs', 'and', 'ham.', 'i', 'do', 'not', 'like', 'them,', 'sam-i-am.', 'would', 'you', 'like', 'them', 'in', 'a', 'house?', 'would', 'you', 'like', 'them', 'with', 'a', 'mouse?', 'i', 'do', 'not', 'like', 'them', 'in', 'a', 'house.', 'i', 'do', 'not', 'like', 'them', 'with', 'a', 'mouse.', 'i', 'do', 'not', 'like', 'them', 'here', 'or', 'there.', 'i', 'do', 'not', 'like', 'them', 'anywhere.', 'i', 'do', 'not', 'like', 'green', 'eggs', 'and', 'ham.', 'i', 'do', 'not', 'like', 'them,', 'sam-i-am.', 'would', 'you', 'eat', 'them', 'in', 'a', 'box?', 'would', 'you', 'eat', 'them', 'with', 'a', 'fox?', 'not', 'in', 'a', 'box.', 'not', 'with', 'a', 'fox.', 'not', 'in', 'a', 'house.', 'not', 'with', 'a', 'mouse.', 'i', 'would', 'not', 'eat', 'them', 'here', 'or', 'there.', 'i', 'would', 'not', 'eat', 'them', 'anywhere.', 'i', 'would', 'not', 'eat', 'green', 'eggs', 'and', 'ham.', 'i', 'do', 'not', 'like', 'them,', 'sam-i-am.', 'would', 'you?', 'could', 'you?', 'in', 'a', 'car?', 'eat', 'them!', 'eat', 'them!', 'here', 'they', 'are.', 'i', 'would', 'not,', 'could', 'not,', 'in', 'a', 'car.', 'you', 'may', 'like', 'them.', 'you', 'will', 'see.', 'you', 'may', 'like', 'them', 'in', 'a', 'tree!', 'i', 'would', 'not,', 'could', 'not', 'in', 'a', 'tree.', 'not', 'in', 'a', 'car!', 'you', 'let', 'me', 'be.', 'i', 'do', 'not', 'like', 'them', 'in', 'a', 'box.', 'i', 'do', 'not', 'like', 'them', 'with', 'a', 'fox.', 'i', 'do', 'not', 'like', 'them', 'in', 'a', 'house.', 'i', 'do', 'not', 'like', 'them', 'with', 'a', 'mouse.', 'i', 'do', 'not', 'like', 'them', 'here', 'or', 'there.', 'i', 'do', 'not', 'like', 'them', 'anywhere.', 'i', 'do', 'not', 'like', 'green', 'eggs', 'and', 'ham.', 'i', 'do', 'not', 'like', 'them,', 'sam-i-am.', 'a', 'train!', 'a', 'train!', 'a', 'train!', 'a', 'train!', 'could', 'you,', 'would', 'you,', 'on', 'a', 'train?', 'not', 'in', 'a', 'train!', 'not', 'in', 'a', 'tree!', 'not', 'in', 'a', 'car!', 'sam!', 'let', 'me', 'be!', 'i', 'would', 'not,', 'could', 'not,', 'in', 'a', 'box.', 'i', 'could', 'not,', 'would', 'not,', 'with', 'a', 'fox.', 'i', 'will', 'not', 'eat', 'them', 'with', 'a', 'mouse.', 'i', 'will', 'not', 'eat', 'them', 'in', 'a', 'house.', 'i', 'will', 'not', 'eat', 'them', 'here', 'or', 'there.', 'i', 'will', 'not', 'eat', 'them', 'anywhere.', 'i', 'do', 'not', 'like', 'green', 'eggs', 'and', 'spam.', 'i', 'do', 'not', 'like', 'them,', 'sam-i-am.', 'say!', 'in', 'the', 'dark?', 'here', 'in', 'the', 'dark!', 'would', 'you,', 'could', 'you,', 'in', 'the', 'dark?', 'i', 'would', 'not,', 'could', 'not,', 'in', 'the', 'dark.', 'would', 'you,', 'could', 'you,', 'in', 'the', 'rain?', 'i', 'would', 'not,', 'could', 'not,', 'in', 'the', 'rain.', 'not', 'in', 'the', 'dark.', 'not', 'on', 'a', 'train.', 'not', 'in', 'a', 'car.', 'not', 'in', 'a', 'tree.', 'i', 'do', 'not', 'like', 'them,', 'sam,', 'you', 'see.', 'not', 'in', 'a', 'house.', 'not', 'in', 'a', 'box.', 'not', 'with', 'a', 'mouse.', 'not', 'with', 'a', 'fox.', 'i', 'will', 'not', 'eat', 'them', 'here', 'or', 'there.', 'i', 'do', 'not', 'like', 'them', 'anywhere!', 'you', 'do', 'not', 'like', 'green', 'eggs', 'and', 'ham?', 'i', 'do', 'not', 'like', 'them,', 'sam-i-am.', 'could', 'you,', 'would', 'you,', 'with', 'a', 'goat?', 'i', 'would', 'not,', 'could', 'not,', 'with', 'a', 'goat!', 'would', 'you,', 'could', 'you,', 'on', 'a', 'boat?', 'i', 'could', 'not,', 'would', 'not,', 'on', 'a', 'boat.', 'i', 'will', 'not,', 'will', 'not,', 'with', 'a', 'goat.', 'i', 'will', 'not', 'eat', 'them', 'in', 'the', 'rain.', 'i', 'will', 'not', 'eat', 'them', 'on', 'a', 'train.', 'not', 'in', 'the', 'dark!', 'not', 'in', 'a', 'tree!', 'not', 'in', 'a', 'car!', 'you', 'let', 'me', 'be!', 'i', 'do', 'not', 'like', 'them', 'in', 'a', 'box.', 'i', 'do', 'not', 'like', 'them', 'with', 'a', 'fox.', 'i', 'will', 'not', 'eat', 'them', 'in', 'a', 'house.', 'i', 'do', 'not', 'like', 'them', 'with', 'a', 'mouse.', 'i', 'do', 'not', 'like', 'them', 'here', 'or', 'there.', 'i', 'do', 'not', 'like', 'them', 'anywhere!', 'i', 'do', 'not', 'like', 'green', 'eggs', 'and', 'ham!', 'i', 'do', 'not', 'like', 'them,', 'sam-i-am.', 'you', 'do', 'not', 'like', 'them.', 'so', 'you', 'say.', 'try', 'them!', 'try', 'them!', 'and', 'you', 'may.', 'try', 'them', 'and', 'you', 'may,', 'i', 'say.', 'sam!', 'if', 'you', 'will', 'let', 'me', 'be,', 'i', 'will', 'try', 'them.', 'you', 'will', 'see.', 'say!', 'i', 'like', 'green', 'eggs', 'and', 'ham!', 'i', 'do!', 'i', 'like', 'them,', 'sam-i-am!', 'and', 'i', 'would', 'eat', 'them', 'in', 'a', 'boat.', 'and', 'i', 'would', 'eat', 'them', 'with', 'a', 'goat...', 'and', 'i', 'will', 'eat', 'them', 'in', 'the', 'rain.', 'and', 'in', 'the', 'dark.', 'and', 'on', 'a', 'train.', 'and', 'in', 'a', 'car.', 'and', 'in', 'a', 'tree.', 'they', 'are', 'so', 'good,', 'so', 'good,', 'you', 'see!', 'so', 'i', 'will', 'eat', 'them', 'in', 'a', 'box.', 'and', 'i', 'will', 'eat', 'them', 'with', 'a', 'fox.', 'and', 'i', 'will', 'eat', 'them', 'in', 'a', 'house.', 'and', 'i', 'will', 'eat', 'them', 'with', 'a', 'mouse.', 'and', 'i', 'will', 'eat', 'them', 'here', 'and', 'there.', 'say!', 'i', 'will', 'eat', 'them', 'anywhere!', 'i', 'do', 'so', 'like', 'green', 'eggs', 'and', 'ham!', 'thank', 'you!', 'thank', 'you,', 'sam-i-am!']\n"
     ]
    }
   ],
   "source": [
    "print(words)"
   ]
  },
  {
   "cell_type": "code",
   "execution_count": null,
   "metadata": {},
   "outputs": [],
   "source": [
    "for x in text_list:\n",
    "    print(x)"
   ]
  },
  {
   "cell_type": "code",
   "execution_count": null,
   "metadata": {},
   "outputs": [],
   "source": [
    "text_list = [text_list.lower() \n",
    "            for x in text_list]"
   ]
  },
  {
   "cell_type": "code",
   "execution_count": null,
   "metadata": {},
   "outputs": [],
   "source": [
    "word_freq = defaultdict(int)\n",
    "\n",
    "for x in text_list:          #for every string in text list\n",
    "    for word in x.split():   #for every string, split it into new word  | Calling x.split splitting each string\n",
    "        #word_freq[word] += 1    #adds one to if a word is a word?  \n",
    "        print(word)"
   ]
  },
  {
   "cell_type": "code",
   "execution_count": null,
   "metadata": {},
   "outputs": [],
   "source": [
    "pd.DataFrame.from_dict(word_freq,orient='index').sort_values(0,ascending = False)"
   ]
  },
  {
   "cell_type": "code",
   "execution_count": null,
   "metadata": {
    "collapsed": true
   },
   "outputs": [],
   "source": []
  }
 ],
 "metadata": {
  "kernelspec": {
   "display_name": "Python 3",
   "language": "python",
   "name": "python3"
  },
  "language_info": {
   "codemirror_mode": {
    "name": "ipython",
    "version": 3
   },
   "file_extension": ".py",
   "mimetype": "text/x-python",
   "name": "python",
   "nbconvert_exporter": "python",
   "pygments_lexer": "ipython3",
   "version": "3.6.3"
  }
 },
 "nbformat": 4,
 "nbformat_minor": 2
}
